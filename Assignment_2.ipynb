{
 "cells": [
  {
   "cell_type": "markdown",
   "metadata": {},
   "source": [
    "<h3>Q no 1:  Write a python program to find number of occurrences of given number in a list with out using built-in methods</h3>\n",
    "<h4>**1 generate a list of some random num which is repeated again and again</h4>\n",
    "<h4>**2 take user input any number</h4>\n",
    "<h4>**3 find the number of occurrences of that num in your list</h4>\n",
    "<h4>**4 print some message to user with that result</h4>"
   ]
  },
  {
   "cell_type": "code",
   "execution_count": 2,
   "metadata": {},
   "outputs": [
    {
     "name": "stdout",
     "output_type": "stream",
     "text": [
      "[1, 2, 3, 4, 3, 5, 4, 5, 6, 1, 7]\n"
     ]
    }
   ],
   "source": [
    "List = [1,2,3,4,3,5,4,5,6,1,7]\n",
    "print(List)"
   ]
  },
  {
   "cell_type": "code",
   "execution_count": 5,
   "metadata": {},
   "outputs": [
    {
     "name": "stdout",
     "output_type": "stream",
     "text": [
      "Enter Number Which You Want To Find : 3\n"
     ]
    }
   ],
   "source": [
    "Number = input(\"Enter Number Which You Want To Find : \")\n"
   ]
  },
  {
   "cell_type": "code",
   "execution_count": 15,
   "metadata": {},
   "outputs": [],
   "source": [
    "x=0\n",
    "find=[]\n",
    "lenght=len(List)\n",
    "\n",
    "for i in range(lenght):\n",
    "    if(List[i]==int(Number)):\n",
    "        x=x+1\n",
    "        find.append(i)\n",
    "            "
   ]
  },
  {
   "cell_type": "code",
   "execution_count": 16,
   "metadata": {},
   "outputs": [
    {
     "name": "stdout",
     "output_type": "stream",
     "text": [
      "Searched number is found at following indexes : \n",
      "[2, 4]\n"
     ]
    }
   ],
   "source": [
    "if(x==0):\n",
    "    print(\"Not Found\")\n",
    "else:\n",
    "    print(\"Searched number is found at following indexes : \")\n",
    "    print(find)\n",
    "    "
   ]
  },
  {
   "cell_type": "markdown",
   "metadata": {},
   "source": [
    "<h3>Q no 2:   [\"www.zframez.com\", \"www.wikipedia.org\", \"www.asp.net\", \"www.abcd.in\"]\n",
    "<br/><br/><br/><br/><br/>\n",
    "Write a python program to print website suffixes (com , org , net ,in) from this list\n",
    "</h3>"
   ]
  },
  {
   "cell_type": "code",
   "execution_count": 1,
   "metadata": {},
   "outputs": [],
   "source": [
    "New_list = [\"www.zframez.com\",\"www.wikipedia.org\",\"www.asp.net\",\"www.abcd.in\"]\n",
    "temp_1=New_list[0]\n",
    "temp_2=New_list[1]\n",
    "temp_3=New_list[2]\n",
    "temp_4=New_list[3]\n",
    "lenght_1=len(temp_1)\n",
    "lenght_2=len(temp_2)\n",
    "lenght_3=len(temp_3)\n",
    "lenght_4=len(temp_4)"
   ]
  },
  {
   "cell_type": "code",
   "execution_count": 6,
   "metadata": {},
   "outputs": [
    {
     "name": "stdout",
     "output_type": "stream",
     "text": [
      "['.com', '.org', '.net', '.in']\n"
     ]
    }
   ],
   "source": [
    "Suffixes = [temp_1[-4:lenght_1],temp_2[-4:lenght_2],temp_3[-4:lenght_3],temp_4[-3:lenght_4]]\n",
    "print(Suffixes)"
   ]
  },
  {
   "cell_type": "markdown",
   "metadata": {},
   "source": [
    "<h3> Q no 3 : Write a program which can compute the factorial of a given numbers.</h3>\n",
    "<br/>\n",
    "<br/>\n",
    "<h4>**1 first take user input any number</h4>\n",
    "<h4>**2 calculate factorial of that input and then print the result to user</h4>"
   ]
  },
  {
   "cell_type": "code",
   "execution_count": 16,
   "metadata": {
    "scrolled": true
   },
   "outputs": [
    {
     "name": "stdout",
     "output_type": "stream",
     "text": [
      "Enter Number : 12\n",
      "12\n"
     ]
    }
   ],
   "source": [
    "Number=input(\"Enter Number : \")"
   ]
  },
  {
   "cell_type": "code",
   "execution_count": 30,
   "metadata": {},
   "outputs": [],
   "source": [
    "Factorial=1\n",
    "for i in range(int(Number)):\n",
    "    Factorial=Factorial*(i+1)"
   ]
  },
  {
   "cell_type": "code",
   "execution_count": 33,
   "metadata": {},
   "outputs": [
    {
     "name": "stdout",
     "output_type": "stream",
     "text": [
      "The Factorial Of The Given Number Is 479001600\n"
     ]
    }
   ],
   "source": [
    "print(\"The Factorial Of The Given Number Is\",Factorial)"
   ]
  },
  {
   "cell_type": "markdown",
   "metadata": {},
   "source": [
    "<h3>Q 4 (a) :  If you could invite anyone, living or deceased, to dinner, who\n",
    "would you invite? Make a list that includes at least three people you’d like to\n",
    "invite to dinner. Then use your list to print a message to each person, inviting\n",
    "them to dinner.</h3>"
   ]
  },
  {
   "cell_type": "code",
   "execution_count": 1,
   "metadata": {},
   "outputs": [],
   "source": [
    "List_1=[\"Anas\",\"Ghouse\",\"Wajeeh\",\"Raufi\"]\n",
    "lenght=len(List_1)"
   ]
  },
  {
   "cell_type": "code",
   "execution_count": 2,
   "metadata": {},
   "outputs": [
    {
     "name": "stdout",
     "output_type": "stream",
     "text": [
      "Anas ,you are invited to the dinner at my house\n",
      "Ghouse ,you are invited to the dinner at my house\n",
      "Wajeeh ,you are invited to the dinner at my house\n",
      "Raufi ,you are invited to the dinner at my house\n"
     ]
    }
   ],
   "source": [
    "for i in range(lenght):\n",
    "    print(List_1[i],\",you are invited to the dinner at my house\")"
   ]
  },
  {
   "cell_type": "markdown",
   "metadata": {},
   "source": [
    "<h3>Q 4 (b) : You just heard that one of your guests can’t make the\n",
    "dinner, so you need to send out a new set of invitations. You’ll have to think of\n",
    "someone else to invite.<br/></br><br/>\n",
    "•\t Start with your program from Q 4 (a). Add a print statement at the\n",
    "end of your program stating the name of the guest who can’t make it.<br/></br><br/>\n",
    "•\t Modify your list, replacing the name of the guest who can’t make it with\n",
    "the name of the new person you are inviting.<br/></br><br/>\n",
    "•\t Print a second set of invitation messages, one for each person who is still\n",
    "in your list.<br/></br><br/></h3>"
   ]
  },
  {
   "cell_type": "code",
   "execution_count": 3,
   "metadata": {},
   "outputs": [
    {
     "name": "stdout",
     "output_type": "stream",
     "text": [
      "Raufi is make it the dinner.\n"
     ]
    }
   ],
   "source": [
    "print(List_1[3],\"is make it the dinner.\")"
   ]
  },
  {
   "cell_type": "code",
   "execution_count": 4,
   "metadata": {},
   "outputs": [
    {
     "name": "stdout",
     "output_type": "stream",
     "text": [
      "['Anas', 'Ghouse', 'Wajeeh']\n"
     ]
    }
   ],
   "source": [
    "List_1.remove(\"Raufi\")\n",
    "print(List_1)"
   ]
  },
  {
   "cell_type": "code",
   "execution_count": 5,
   "metadata": {},
   "outputs": [
    {
     "name": "stdout",
     "output_type": "stream",
     "text": [
      "Anas ,you are invited to the dinner at my house\n",
      "Ghouse ,you are invited to the dinner at my house\n",
      "Wajeeh ,you are invited to the dinner at my house\n",
      "Sanan ,you are invited to the dinner at my house\n"
     ]
    }
   ],
   "source": [
    "List_1.append(\"Sanan\")\n",
    "for i in range(lenght):\n",
    "    print(List_1[i],\",you are invited to the dinner at my house\")"
   ]
  },
  {
   "cell_type": "markdown",
   "metadata": {},
   "source": [
    "<h3>Q 4 (c) : You just found a bigger dinner table, so now more space is\n",
    "available. Think of three more guests to invite to dinner.<br/></br><br/>\n",
    "•\t Start with your program from Q 4 (a) and (b) Add a print\n",
    "statement to the end of your program informing people that you found a\n",
    "bigger dinner table.<br/></br><br/>\n",
    "•\t Use insert() to add one new guest to the beginning of your list.<br/></br><br/>\n",
    "•\t Use insert() to add one new guest to the middle of your list.<br/></br><br/>\n",
    "•\t Use append() to add one new guest to the end of your list.<br/></br><br/>\n",
    "•\t Print a new set of invitation messages, one for each person in your list.<br/></br><br/></h3>"
   ]
  },
  {
   "cell_type": "code",
   "execution_count": 7,
   "metadata": {},
   "outputs": [],
   "source": [
    "List_1.insert(0,'Wahid')\n",
    "List_1.insert(3,'Wasi')\n",
    "List_1.insert(5,'Muneed')"
   ]
  },
  {
   "cell_type": "code",
   "execution_count": 8,
   "metadata": {},
   "outputs": [
    {
     "name": "stdout",
     "output_type": "stream",
     "text": [
      "Wahid ,you are invited to the dinner at my house\n",
      "Anas ,you are invited to the dinner at my house\n",
      "Ghouse ,you are invited to the dinner at my house\n",
      "Wasi ,you are invited to the dinner at my house\n",
      "Wajeeh ,you are invited to the dinner at my house\n",
      "Muneed ,you are invited to the dinner at my house\n",
      "Sanan ,you are invited to the dinner at my house\n"
     ]
    }
   ],
   "source": [
    "lenght=len(List_1)\n",
    "for i in range(lenght):\n",
    "    print(List_1[i],\",you are invited to the dinner at my house\")"
   ]
  },
  {
   "cell_type": "code",
   "execution_count": 9,
   "metadata": {},
   "outputs": [
    {
     "name": "stdout",
     "output_type": "stream",
     "text": [
      "I have found a bigger dinner table that why i am invited three more peoples to the dinner\n"
     ]
    }
   ],
   "source": [
    "print(\"I have found a bigger dinner table that why i am invited three more peoples to the dinner\")"
   ]
  },
  {
   "cell_type": "markdown",
   "metadata": {},
   "source": [
    "<h5> Q 5 : Here you have some data in variable below, your task is to make a list of specific word Surah then print the list and length of list</h5>\n"
   ]
  },
  {
   "cell_type": "code",
   "execution_count": 10,
   "metadata": {},
   "outputs": [],
   "source": [
    "data = \"Sura I Who believe in the Unseen, Sura Are steadfast in prayer, And spend Sura out of what We Have provided for them;\"\n"
   ]
  },
  {
   "cell_type": "code",
   "execution_count": 12,
   "metadata": {},
   "outputs": [],
   "source": [
    "if \"Sura\" in data:\n",
    "    List_2 = [\"Sura\"]"
   ]
  },
  {
   "cell_type": "code",
   "execution_count": 13,
   "metadata": {},
   "outputs": [
    {
     "name": "stdout",
     "output_type": "stream",
     "text": [
      "Lenght of the list_2 is  1\n",
      "['Sura']\n"
     ]
    }
   ],
   "source": [
    "print(\"Lenght of the list_2 is \",len(List_2))\n",
    "print(List_2)"
   ]
  }
 ],
 "metadata": {
  "kernelspec": {
   "display_name": "Python 3",
   "language": "python",
   "name": "python3"
  },
  "language_info": {
   "codemirror_mode": {
    "name": "ipython",
    "version": 3
   },
   "file_extension": ".py",
   "mimetype": "text/x-python",
   "name": "python",
   "nbconvert_exporter": "python",
   "pygments_lexer": "ipython3",
   "version": "3.6.5"
  }
 },
 "nbformat": 4,
 "nbformat_minor": 2
}
